{
 "cells": [
  {
   "cell_type": "markdown",
   "metadata": {
    "id": "LbQWNJPtEyFa"
   },
   "source": [
    "# <center> Orbital Elements and Numerical Solution to Kepler's Equation\n",
    "\n",
    "---"
   ]
  },
  {
   "cell_type": "markdown",
   "metadata": {
    "id": "4-hfV-4Vfq9g"
   },
   "source": [
    "<center> <img src = 'https://qph.cf2.quoracdn.net/main-qimg-f9722e2845938f5ade59d9b5e61f4929'>"
   ]
  },
  {
   "cell_type": "markdown",
   "metadata": {
    "id": "noxPCuuZE7cA"
   },
   "source": [
    "## Orbital Elements\n",
    "\n",
    "- [Click on this link to download the PDF of Orbital Elements](https://drive.google.com/file/d/1lPV5KBJbzHPkTg2EHZuy34F6vP5yBC7Z/view?usp=share_link)"
   ]
  },
  {
   "cell_type": "markdown",
   "metadata": {
    "id": "bMh8wtIzOnkU"
   },
   "source": [
    "## Problem Statement\n",
    "\n",
    "- Predict the approximate position and velocity of the satellite orbiting the Earth after 4 hours since it passed the periapsis.\n",
    "\n",
    "\n",
    "<center> <img src = 'media/start_image.png'>"
   ]
  },
  {
   "cell_type": "markdown",
   "metadata": {
    "id": "BIy2kWy-Im-N"
   },
   "source": [
    "## Given values to solve the problem\n",
    "- $a = 25,512 \\ km$\n",
    "- $e = 0.625$      \n",
    "- $f(0) = 0$\n"
   ]
  },
  {
   "cell_type": "markdown",
   "metadata": {
    "id": "IUnR3F8DYXDg"
   },
   "source": [
    "## Solution steps and the Equations to use for those steps"
   ]
  },
  {
   "cell_type": "code",
   "execution_count": 1,
   "metadata": {
    "id": "1B9rH4rosAtl"
   },
   "outputs": [],
   "source": [
    "# t --> M --> E --> f --> r --> v"
   ]
  },
  {
   "cell_type": "markdown",
   "metadata": {
    "id": "u1rfStv7GqkV"
   },
   "source": [
    "**1)** Mean Anomaly at given time t:\n",
    "  - $M(t) =nt$ where $n = \\sqrt{\\frac{\\mu}{a^3}}$, and $\\mu = GM$\n",
    "\n",
    "**2)** Eccentric Anomaly for the value of M in previous step (Kepler's Equation):\n",
    "  - $M = E - esinE$\n",
    "\n",
    "**3)** True Anomaly for the value of E in previous step:\n",
    "  - $tan \\frac{f}{2} = \\sqrt{\\frac{1+e}{1-e}}tan \\frac{E}{2}$\n",
    "\n",
    "**4)** Position of Satellite at True Anomaly:\n",
    "  - $r(t) = \\frac{a(1-e^2)}{1 + ecos(f(t))}$\n",
    "\n",
    "**5)** Velocity (Vis Viva Equation) at given position:\n",
    "  - $v = \\sqrt{\\mu(\\frac{2}{r} - \\frac{1}{a})}$"
   ]
  },
  {
   "cell_type": "markdown",
   "metadata": {
    "id": "owxXLTOaKZXj"
   },
   "source": [
    "**Reference to the derivation of Kepler's Law and Formula for True Anomaly**\n",
    "* https://www.youtube.com/watch?v=rDQTZadS058&t=1680s"
   ]
  },
  {
   "cell_type": "markdown",
   "metadata": {
    "id": "Xia-ErOBKNwG"
   },
   "source": [
    "## Solution to the problem statement (step by step)"
   ]
  },
  {
   "cell_type": "code",
   "execution_count": 1,
   "metadata": {
    "id": "vH5DPq6-L9CR"
   },
   "outputs": [],
   "source": [
    "# Importing necessary libraries\n",
    "import numpy as np"
   ]
  },
  {
   "cell_type": "markdown",
   "metadata": {
    "id": "szyi3giCKRrW"
   },
   "source": [
    "### 1) Finding the Mean Anomaly after 4 hours from the periapsis."
   ]
  },
  {
   "cell_type": "code",
   "execution_count": 4,
   "metadata": {
    "colab": {
     "base_uri": "https://localhost:8080/"
    },
    "id": "qR3f9AxJK2C_",
    "outputId": "2c106ca8-73d2-41b3-e69a-afff8eaee140"
   },
   "outputs": [
    {
     "name": "stdout",
     "output_type": "stream",
     "text": [
      "The Mean Anomaly since the periapsis is 2.231 rad\n"
     ]
    }
   ],
   "source": [
    "'''Define the constants'''\n",
    "G = 6.6743e-11  # Gravitational Constant\n",
    "Me = 5.972e24   # Mass of Earth\n",
    "a = 25512e3     # Semi Major Axis of the orbit\n",
    "e = 0.625       # Eccentricity of the orbit\n",
    "t = 4 * 3600    # Seconds since the periapsis\n",
    "\n",
    "'''Calculate the Gravitational parameter for Earth'''\n",
    "mu_e = G * Me  # mu = GM\n",
    "\n",
    "'''Calculate the average angular speed of an object in its orbit around another object'''\n",
    "n = np.sqrt(mu_e/a**3)  # n = sqrt(mu/a^3)\n",
    "\n",
    "'''Calculate the Mean Anomaly since the 4 hours of the periapsis'''\n",
    "M = n * t  # M = nt\n",
    "\n",
    "'''Print the value'''\n",
    "print(f'The Mean Anomaly since the periapsis is {round(M, 3)} rad')"
   ]
  },
  {
   "cell_type": "markdown",
   "metadata": {
    "id": "KSCLW8ctNCHv"
   },
   "source": [
    "### 2) Using Kepler's Equation to Numerically Solve for Eccentric Anomaly for given Mean Anomaly"
   ]
  },
  {
   "cell_type": "code",
   "execution_count": 5,
   "metadata": {
    "id": "lTaABQNwOTpt"
   },
   "outputs": [],
   "source": [
    "# Defining Functions for Kepler Equation, Derivative of Kepler Equation and Newton-Raphson Method\n",
    "def kepler_eq(E, M, e):\n",
    "    '''\n",
    "    Kepler's Equation:-\n",
    "    M = E - esin(E)\n",
    "\n",
    "    Converting it to the format of f(x) = 0\n",
    "    E - esin(E) - M = 0\n",
    "    '''\n",
    "    return E - e*np.sin(E) - M\n",
    "\n",
    "\n",
    "def derivative_kepler_eq(E, e):\n",
    "  '''\n",
    "  Derivative of Kepler's Equation for Newton Raphson\n",
    "  M = E - esin(E)\n",
    "  dM/dE = 1 - ecos(E)\n",
    "  '''\n",
    "  return 1 - e*np.cos(E)\n",
    "\n",
    "def newton_raphson(func, dfunc, x0, eps):\n",
    "    '''\n",
    "    func - Kepler's Equation\n",
    "    dfunc - Derivative of Kepler's Equation\n",
    "    x0 - Initital value of E\n",
    "    eps - Tolerance (epsilon) value\n",
    "\n",
    "    x_new = x_old - f(x)/f'(x)\n",
    "    '''\n",
    "\n",
    "    # Set up for the Newton Raphson Method\n",
    "    xn = x0\n",
    "    fn = func(xn)\n",
    "\n",
    "    # Initialize the loop counter\n",
    "    ct = 1\n",
    "\n",
    "    # While the absolute value of fucn is not dropping below eps\n",
    "    while abs(fn) > eps:\n",
    "      xn = xn - fn/dfunc(xn)  # Update the xn values\n",
    "      fn = func(xn)           # Update the kepler eqn output\n",
    "      ct += 1                 # Update the counter\n",
    "\n",
    "      # If after 100 iterations, abs(fn) is not going below the eps value, break manually\n",
    "      if ct == 100:\n",
    "        print('Failed to converge after 100 iterations.')\n",
    "        break\n",
    "\n",
    "    return xn\n",
    "\n",
    "\n"
   ]
  },
  {
   "cell_type": "code",
   "execution_count": 6,
   "metadata": {
    "colab": {
     "base_uri": "https://localhost:8080/"
    },
    "id": "d9np1bzNRAFx",
    "outputId": "737426a0-fc35-43cf-c1fa-30568c86b4b9"
   },
   "outputs": [
    {
     "name": "stdout",
     "output_type": "stream",
     "text": [
      "25\n"
     ]
    }
   ],
   "source": [
    "# If you don't understand lambda function try this:\n",
    "\n",
    "'''\n",
    "Syntax of Lambda function\n",
    "output_of_expression = lambda argument : expression\n",
    "'''\n",
    "\n",
    "'''Square the number that is passed as arrgument of the lambda function'''\n",
    "squared_val = lambda x: x**2\n",
    "print(squared_val(5))"
   ]
  },
  {
   "cell_type": "code",
   "execution_count": 7,
   "metadata": {
    "colab": {
     "base_uri": "https://localhost:8080/"
    },
    "id": "BBlqYIu_QIV7",
    "outputId": "6ddfb50e-c386-466c-f9ed-c003041b9d17"
   },
   "outputs": [
    {
     "name": "stdout",
     "output_type": "stream",
     "text": [
      "The Eccentric Anomaly at M = 2.231 is : 2.569 rad\n"
     ]
    }
   ],
   "source": [
    "# Initial value of E is usually used as the value of M\n",
    "x0 = M\n",
    "\n",
    "# Set the threshold value for Newton-Raphson Method\n",
    "eps = 1e-6\n",
    "\n",
    "# Find the Eccentric Anomaly for given conditions above\n",
    "E = newton_raphson(func = lambda E: kepler_eq(E, M, e),\n",
    "                   dfunc = lambda E: derivative_kepler_eq(E, e),\n",
    "                   x0=x0,\n",
    "                   eps=eps)\n",
    "\n",
    "# Print the final value of E at given M\n",
    "print(f'The Eccentric Anomaly at M = {round(M, 3)} is : {round(E, 3)} rad')"
   ]
  },
  {
   "cell_type": "markdown",
   "metadata": {
    "id": "nAD7PKkzTERf"
   },
   "source": [
    "### 3) Calculate True Anomaly from the above Eccentric Anomaly"
   ]
  },
  {
   "cell_type": "code",
   "execution_count": 8,
   "metadata": {
    "colab": {
     "base_uri": "https://localhost:8080/"
    },
    "id": "U1IY1w-TEc_w",
    "outputId": "480a696a-1dfb-474e-819d-65188844aaab"
   },
   "outputs": [
    {
     "name": "stdout",
     "output_type": "stream",
     "text": [
      "The True Anomaly at given postion is 2.861 rad\n"
     ]
    }
   ],
   "source": [
    "'''\n",
    "Equation -\n",
    "f = 2arctan(sqrt((1+e)/(1-e))tanE/2)\n",
    "'''\n",
    "\n",
    "# Break the equation into multiple step\n",
    "sqrt_term = np.sqrt((1 + e)/(1 - e))\n",
    "tan_term = np.tan(E/2)\n",
    "f = 2 * np.arctan(sqrt_term * tan_term)\n",
    "print(f'The True Anomaly at given postion is {round(f, 3)} rad')"
   ]
  },
  {
   "cell_type": "markdown",
   "metadata": {
    "id": "nizJ_VTrVNM-"
   },
   "source": [
    "### 4) The position of the Satellite at this True Anomaly"
   ]
  },
  {
   "cell_type": "code",
   "execution_count": 9,
   "metadata": {
    "colab": {
     "base_uri": "https://localhost:8080/"
    },
    "id": "BZ-cPAwiXDk2",
    "outputId": "37d8d309-87d4-4e66-eb0c-dbbef7bbb435"
   },
   "outputs": [
    {
     "name": "stdout",
     "output_type": "stream",
     "text": [
      "Distance between the Earth and the Satellite at True Anomaly of 2.861 is 38917.602 km\n"
     ]
    }
   ],
   "source": [
    "'''\n",
    "Equation:-\n",
    "r = a(1 - e^2)/(1 + ecosf)\n",
    "'''\n",
    "r = a*(1 - e**2)/(1 + e*np.cos(f))\n",
    "\n",
    "print(f'Distance between the Earth and the Satellite at True Anomaly of {round(f, 3)} is {round(r/10**3, 3)} km')"
   ]
  },
  {
   "cell_type": "markdown",
   "metadata": {
    "id": "QQXkwC4LX-WK"
   },
   "source": [
    "### 5) Velocity at given position (Vis - Viva Equation)"
   ]
  },
  {
   "cell_type": "code",
   "execution_count": 10,
   "metadata": {
    "colab": {
     "base_uri": "https://localhost:8080/"
    },
    "id": "3WwUrjpuYD_C",
    "outputId": "ca27cb72-1a56-4afc-fadf-d8dbdf5ae51b"
   },
   "outputs": [
    {
     "name": "stdout",
     "output_type": "stream",
     "text": [
      "The velocity of the satellite at distance of 38917.602 km from the Earth is 2.205 km/s\n"
     ]
    }
   ],
   "source": [
    "'''\n",
    "Formula:-\n",
    "v = sqrt(mu(2/r - 1/a))\n",
    "'''\n",
    "v = np.sqrt(mu_e*(2/r - 1/a))\n",
    "\n",
    "print(f'The velocity of the satellite at distance of {round(r/10**3,3)} km from the Earth is {round(v/10**3,3)} km/s')"
   ]
  },
  {
   "cell_type": "markdown",
   "metadata": {
    "id": "V8QF1KlXfG5H"
   },
   "source": [
    "## Conclusions\n",
    "\n"
   ]
  },
  {
   "cell_type": "code",
   "execution_count": 11,
   "metadata": {
    "colab": {
     "base_uri": "https://localhost:8080/"
    },
    "id": "Uuh7SbYkwtai",
    "outputId": "d0a7d269-2577-461d-9513-82f128fbf0bd"
   },
   "outputs": [
    {
     "data": {
      "text/plain": [
       "163.92322518692853"
      ]
     },
     "execution_count": 11,
     "metadata": {},
     "output_type": "execute_result"
    }
   ],
   "source": [
    "# Convert this true anomaly from rad into deg\n",
    "# 180 deg --> pi rad, 2.861 rad --> deg?\n",
    "2.861 * 180/np.pi"
   ]
  },
  {
   "cell_type": "markdown",
   "metadata": {
    "id": "AIFanQGmwxzU"
   },
   "source": [
    "- According to our calculations, we should approximately find this satellite in this position after 4 hours since it crosses the periapsis:\n",
    "  \n",
    "<center> <img src = 'media/end_img.png'>"
   ]
  }
 ],
 "metadata": {
  "colab": {
   "provenance": []
  },
  "kernelspec": {
   "display_name": "Python 3",
   "name": "python3"
  },
  "language_info": {
   "codemirror_mode": {
    "name": "ipython",
    "version": 3
   },
   "file_extension": ".py",
   "mimetype": "text/x-python",
   "name": "python",
   "nbconvert_exporter": "python",
   "pygments_lexer": "ipython3",
   "version": "3.12.3"
  }
 },
 "nbformat": 4,
 "nbformat_minor": 0
}
